{
 "cells": [
  {
   "cell_type": "markdown",
   "id": "c90543a9",
   "metadata": {},
   "source": [
    "# Decision Tree Code"
   ]
  },
  {
   "cell_type": "markdown",
   "id": "35d9ba41",
   "metadata": {},
   "source": [
    "This is taken from (https://www.kaggle.com/datasets/paradisejoy/top-hits-spotify-from-20002019). Originally this dataset had 2000 of the top songs from Spotify from the years 2000-2019 with 18 columns. The dataset we start with here is 100 of the top songs with 2 numerical attributes and class_labels with 2 values A or B."
   ]
  },
  {
   "cell_type": "code",
   "execution_count": 1,
   "id": "e37e977a",
   "metadata": {},
   "outputs": [],
   "source": [
    "import pandas as pd\n",
    "import math\n",
    "#sklearn if scikit-learn; details in https://scikit-learn.org/\n",
    "from sklearn import tree"
   ]
  },
  {
   "cell_type": "code",
   "execution_count": 2,
   "id": "c43b8f78",
   "metadata": {},
   "outputs": [],
   "source": [
    "# This is my dataset used in last weeks homework.\n",
    "Songs = pd.read_csv('cs654_homework4_dataset_Dembar_New.csv')"
   ]
  },
  {
   "cell_type": "code",
   "execution_count": 3,
   "id": "7d1fd263",
   "metadata": {},
   "outputs": [],
   "source": [
    "Songs = Songs[['duration_ms','popularity','class_label']]"
   ]
  },
  {
   "cell_type": "code",
   "execution_count": 4,
   "id": "f864dbb2",
   "metadata": {},
   "outputs": [
    {
     "data": {
      "text/html": [
       "<div>\n",
       "<style scoped>\n",
       "    .dataframe tbody tr th:only-of-type {\n",
       "        vertical-align: middle;\n",
       "    }\n",
       "\n",
       "    .dataframe tbody tr th {\n",
       "        vertical-align: top;\n",
       "    }\n",
       "\n",
       "    .dataframe thead th {\n",
       "        text-align: right;\n",
       "    }\n",
       "</style>\n",
       "<table border=\"1\" class=\"dataframe\">\n",
       "  <thead>\n",
       "    <tr style=\"text-align: right;\">\n",
       "      <th></th>\n",
       "      <th>duration_ms</th>\n",
       "      <th>popularity</th>\n",
       "      <th>class_label</th>\n",
       "    </tr>\n",
       "  </thead>\n",
       "  <tbody>\n",
       "    <tr>\n",
       "      <th>0</th>\n",
       "      <td>26</td>\n",
       "      <td>90</td>\n",
       "      <td>A</td>\n",
       "    </tr>\n",
       "    <tr>\n",
       "      <th>1</th>\n",
       "      <td>3</td>\n",
       "      <td>92</td>\n",
       "      <td>A</td>\n",
       "    </tr>\n",
       "    <tr>\n",
       "      <th>2</th>\n",
       "      <td>47</td>\n",
       "      <td>77</td>\n",
       "      <td>A</td>\n",
       "    </tr>\n",
       "    <tr>\n",
       "      <th>3</th>\n",
       "      <td>33</td>\n",
       "      <td>91</td>\n",
       "      <td>A</td>\n",
       "    </tr>\n",
       "    <tr>\n",
       "      <th>4</th>\n",
       "      <td>20</td>\n",
       "      <td>76</td>\n",
       "      <td>A</td>\n",
       "    </tr>\n",
       "    <tr>\n",
       "      <th>...</th>\n",
       "      <td>...</td>\n",
       "      <td>...</td>\n",
       "      <td>...</td>\n",
       "    </tr>\n",
       "    <tr>\n",
       "      <th>95</th>\n",
       "      <td>42</td>\n",
       "      <td>83</td>\n",
       "      <td>B</td>\n",
       "    </tr>\n",
       "    <tr>\n",
       "      <th>96</th>\n",
       "      <td>22</td>\n",
       "      <td>74</td>\n",
       "      <td>B</td>\n",
       "    </tr>\n",
       "    <tr>\n",
       "      <th>97</th>\n",
       "      <td>81</td>\n",
       "      <td>80</td>\n",
       "      <td>B</td>\n",
       "    </tr>\n",
       "    <tr>\n",
       "      <th>98</th>\n",
       "      <td>23</td>\n",
       "      <td>76</td>\n",
       "      <td>B</td>\n",
       "    </tr>\n",
       "    <tr>\n",
       "      <th>99</th>\n",
       "      <td>66</td>\n",
       "      <td>79</td>\n",
       "      <td>B</td>\n",
       "    </tr>\n",
       "  </tbody>\n",
       "</table>\n",
       "<p>100 rows × 3 columns</p>\n",
       "</div>"
      ],
      "text/plain": [
       "    duration_ms  popularity class_label\n",
       "0            26          90           A\n",
       "1             3          92           A\n",
       "2            47          77           A\n",
       "3            33          91           A\n",
       "4            20          76           A\n",
       "..          ...         ...         ...\n",
       "95           42          83           B\n",
       "96           22          74           B\n",
       "97           81          80           B\n",
       "98           23          76           B\n",
       "99           66          79           B\n",
       "\n",
       "[100 rows x 3 columns]"
      ]
     },
     "execution_count": 4,
     "metadata": {},
     "output_type": "execute_result"
    }
   ],
   "source": [
    "Songs"
   ]
  },
  {
   "cell_type": "code",
   "execution_count": 5,
   "id": "f24170e2",
   "metadata": {},
   "outputs": [],
   "source": [
    "# I am generating 4 random datasets each with 20 rows from the original dataset of 100 rows.\n",
    "df = Songs.sample(20, random_state = 8)\n",
    "df2 = Songs.sample(20, random_state = 5)\n",
    "df3 = Songs.sample(20, random_state = 7)\n",
    "df4 = Songs.sample(20, random_state = 11)"
   ]
  },
  {
   "cell_type": "code",
   "execution_count": 6,
   "id": "5a05f928",
   "metadata": {},
   "outputs": [
    {
     "data": {
      "text/plain": [
       "(       duration_ms  popularity\n",
       " count    20.000000   20.000000\n",
       " mean     40.500000   69.450000\n",
       " std      20.466918   20.017032\n",
       " min       3.000000    0.000000\n",
       " 25%      27.500000   63.750000\n",
       " 50%      38.000000   69.500000\n",
       " 75%      53.750000   80.750000\n",
       " max      81.000000   92.000000,\n",
       "        duration_ms  popularity\n",
       " count    20.000000   20.000000\n",
       " mean     44.700000   66.400000\n",
       " std      19.841742   20.014205\n",
       " min       8.000000    1.000000\n",
       " 25%      30.000000   63.000000\n",
       " 50%      43.000000   67.000000\n",
       " 75%      54.750000   77.750000\n",
       " max      82.000000   97.000000,\n",
       "        duration_ms  popularity\n",
       " count    20.000000   20.000000\n",
       " mean     46.350000   72.100000\n",
       " std      20.538219   10.412038\n",
       " min      15.000000   60.000000\n",
       " 25%      33.000000   64.000000\n",
       " 50%      42.500000   71.000000\n",
       " 75%      64.000000   79.250000\n",
       " max      97.000000   97.000000,\n",
       "        duration_ms  popularity\n",
       " count    20.000000   20.000000\n",
       " mean     39.850000   67.200000\n",
       " std      13.623799   19.253434\n",
       " min      20.000000    0.000000\n",
       " 25%      27.500000   62.250000\n",
       " 50%      39.500000   70.500000\n",
       " 75%      50.000000   76.250000\n",
       " max      64.000000  100.000000)"
      ]
     },
     "execution_count": 6,
     "metadata": {},
     "output_type": "execute_result"
    }
   ],
   "source": [
    "# Here is a summary of my data in all 4 new datasets.\n",
    "df.describe(),df2.describe(),df3.describe(),df4.describe()"
   ]
  },
  {
   "cell_type": "code",
   "execution_count": 7,
   "id": "5b3e7197",
   "metadata": {},
   "outputs": [
    {
     "data": {
      "text/html": [
       "<div>\n",
       "<style scoped>\n",
       "    .dataframe tbody tr th:only-of-type {\n",
       "        vertical-align: middle;\n",
       "    }\n",
       "\n",
       "    .dataframe tbody tr th {\n",
       "        vertical-align: top;\n",
       "    }\n",
       "\n",
       "    .dataframe thead th {\n",
       "        text-align: right;\n",
       "    }\n",
       "</style>\n",
       "<table border=\"1\" class=\"dataframe\">\n",
       "  <thead>\n",
       "    <tr style=\"text-align: right;\">\n",
       "      <th></th>\n",
       "      <th>duration_ms</th>\n",
       "      <th>popularity</th>\n",
       "      <th>class_label</th>\n",
       "    </tr>\n",
       "  </thead>\n",
       "  <tbody>\n",
       "    <tr>\n",
       "      <th>17</th>\n",
       "      <td>28</td>\n",
       "      <td>85</td>\n",
       "      <td>A</td>\n",
       "    </tr>\n",
       "    <tr>\n",
       "      <th>23</th>\n",
       "      <td>44</td>\n",
       "      <td>63</td>\n",
       "      <td>A</td>\n",
       "    </tr>\n",
       "    <tr>\n",
       "      <th>1</th>\n",
       "      <td>3</td>\n",
       "      <td>92</td>\n",
       "      <td>A</td>\n",
       "    </tr>\n",
       "    <tr>\n",
       "      <th>44</th>\n",
       "      <td>28</td>\n",
       "      <td>57</td>\n",
       "      <td>A</td>\n",
       "    </tr>\n",
       "    <tr>\n",
       "      <th>55</th>\n",
       "      <td>50</td>\n",
       "      <td>69</td>\n",
       "      <td>B</td>\n",
       "    </tr>\n",
       "    <tr>\n",
       "      <th>99</th>\n",
       "      <td>66</td>\n",
       "      <td>79</td>\n",
       "      <td>B</td>\n",
       "    </tr>\n",
       "    <tr>\n",
       "      <th>86</th>\n",
       "      <td>15</td>\n",
       "      <td>70</td>\n",
       "      <td>B</td>\n",
       "    </tr>\n",
       "    <tr>\n",
       "      <th>29</th>\n",
       "      <td>26</td>\n",
       "      <td>55</td>\n",
       "      <td>A</td>\n",
       "    </tr>\n",
       "    <tr>\n",
       "      <th>62</th>\n",
       "      <td>20</td>\n",
       "      <td>0</td>\n",
       "      <td>B</td>\n",
       "    </tr>\n",
       "    <tr>\n",
       "      <th>33</th>\n",
       "      <td>43</td>\n",
       "      <td>60</td>\n",
       "      <td>A</td>\n",
       "    </tr>\n",
       "    <tr>\n",
       "      <th>98</th>\n",
       "      <td>23</td>\n",
       "      <td>76</td>\n",
       "      <td>B</td>\n",
       "    </tr>\n",
       "    <tr>\n",
       "      <th>12</th>\n",
       "      <td>76</td>\n",
       "      <td>64</td>\n",
       "      <td>A</td>\n",
       "    </tr>\n",
       "    <tr>\n",
       "      <th>11</th>\n",
       "      <td>56</td>\n",
       "      <td>65</td>\n",
       "      <td>A</td>\n",
       "    </tr>\n",
       "    <tr>\n",
       "      <th>39</th>\n",
       "      <td>49</td>\n",
       "      <td>64</td>\n",
       "      <td>A</td>\n",
       "    </tr>\n",
       "    <tr>\n",
       "      <th>3</th>\n",
       "      <td>33</td>\n",
       "      <td>91</td>\n",
       "      <td>A</td>\n",
       "    </tr>\n",
       "    <tr>\n",
       "      <th>41</th>\n",
       "      <td>53</td>\n",
       "      <td>77</td>\n",
       "      <td>A</td>\n",
       "    </tr>\n",
       "    <tr>\n",
       "      <th>97</th>\n",
       "      <td>81</td>\n",
       "      <td>80</td>\n",
       "      <td>B</td>\n",
       "    </tr>\n",
       "    <tr>\n",
       "      <th>30</th>\n",
       "      <td>56</td>\n",
       "      <td>83</td>\n",
       "      <td>A</td>\n",
       "    </tr>\n",
       "    <tr>\n",
       "      <th>72</th>\n",
       "      <td>28</td>\n",
       "      <td>67</td>\n",
       "      <td>B</td>\n",
       "    </tr>\n",
       "    <tr>\n",
       "      <th>43</th>\n",
       "      <td>32</td>\n",
       "      <td>92</td>\n",
       "      <td>A</td>\n",
       "    </tr>\n",
       "  </tbody>\n",
       "</table>\n",
       "</div>"
      ],
      "text/plain": [
       "    duration_ms  popularity class_label\n",
       "17           28          85           A\n",
       "23           44          63           A\n",
       "1             3          92           A\n",
       "44           28          57           A\n",
       "55           50          69           B\n",
       "99           66          79           B\n",
       "86           15          70           B\n",
       "29           26          55           A\n",
       "62           20           0           B\n",
       "33           43          60           A\n",
       "98           23          76           B\n",
       "12           76          64           A\n",
       "11           56          65           A\n",
       "39           49          64           A\n",
       "3            33          91           A\n",
       "41           53          77           A\n",
       "97           81          80           B\n",
       "30           56          83           A\n",
       "72           28          67           B\n",
       "43           32          92           A"
      ]
     },
     "execution_count": 7,
     "metadata": {},
     "output_type": "execute_result"
    }
   ],
   "source": [
    "# This is what the first dataset looks like now.\n",
    "df"
   ]
  },
  {
   "cell_type": "markdown",
   "id": "0f4c1645",
   "metadata": {},
   "source": [
    "### Functions to classify groups of 'popularity' and 'duration'\n",
    "Here, I divided each group into 3 based upon max and min and that's how I decided upon the classification system. "
   ]
  },
  {
   "cell_type": "code",
   "execution_count": 8,
   "id": "f7fc7744",
   "metadata": {},
   "outputs": [],
   "source": [
    "def f(x):\n",
    "  if x['popularity'] > 31 and x['popularity'] < 62: return 'average'\n",
    "  elif x['popularity'] > 62: return 'popular'\n",
    "  else: return 'not_popular'\n",
    "\n",
    "df['popularity_new'] = df.apply(f, axis=1)"
   ]
  },
  {
   "cell_type": "code",
   "execution_count": 9,
   "id": "061fd0af",
   "metadata": {},
   "outputs": [],
   "source": [
    "def f(x):\n",
    "  if x['popularity'] > 32 and x['popularity'] < 64: return 'average'\n",
    "  elif x['popularity'] > 64: return 'popular'\n",
    "  else: return 'not_popular'\n",
    "\n",
    "df2['popularity_new'] = df2.apply(f, axis=1)"
   ]
  },
  {
   "cell_type": "code",
   "execution_count": 10,
   "id": "eb52d5a8",
   "metadata": {},
   "outputs": [],
   "source": [
    "def f(x):\n",
    "  if x['popularity'] > 32 and x['popularity'] < 64: return 'average'\n",
    "  elif x['popularity'] > 64: return 'popular'\n",
    "  else: return 'not_popular'\n",
    "\n",
    "df3['popularity_new'] = df3.apply(f, axis=1)"
   ]
  },
  {
   "cell_type": "code",
   "execution_count": 11,
   "id": "2adc00f4",
   "metadata": {},
   "outputs": [],
   "source": [
    "def f(x):\n",
    "  if x['popularity'] > 33 and x['popularity'] < 66: return 'average'\n",
    "  elif x['popularity'] > 66: return 'popular'\n",
    "  else: return 'not_popular'\n",
    "\n",
    "df4['popularity_new'] = df4.apply(f, axis=1)"
   ]
  },
  {
   "cell_type": "code",
   "execution_count": 12,
   "id": "3dc7bc76",
   "metadata": {},
   "outputs": [],
   "source": [
    "def g(x):\n",
    "  if x['duration_ms'] > 27 and x['duration_ms'] < 54: return 'Medium'\n",
    "  elif x['duration_ms'] > 54: return 'Long'\n",
    "  else: return 'Short'\n",
    "\n",
    "df['duration_ms_new'] = df.apply(g, axis=1)"
   ]
  },
  {
   "cell_type": "code",
   "execution_count": 13,
   "id": "2429fd73",
   "metadata": {},
   "outputs": [],
   "source": [
    "def g(x):\n",
    "  if x['duration_ms'] > 27 and x['duration_ms'] < 54: return 'Medium'\n",
    "  elif x['duration_ms'] > 54: return 'Long'\n",
    "  else: return 'Short'\n",
    "\n",
    "df2['duration_ms_new'] = df2.apply(g, axis=1)"
   ]
  },
  {
   "cell_type": "code",
   "execution_count": 14,
   "id": "d488f9c5",
   "metadata": {},
   "outputs": [],
   "source": [
    "def g(x):\n",
    "  if x['duration_ms'] > 32 and x['duration_ms'] < 64: return 'Medium'\n",
    "  elif x['duration_ms'] > 64: return 'Long'\n",
    "  else: return 'Short'\n",
    "\n",
    "df3['duration_ms_new'] = df3.apply(g, axis=1)"
   ]
  },
  {
   "cell_type": "code",
   "execution_count": 15,
   "id": "a2a064de",
   "metadata": {},
   "outputs": [],
   "source": [
    "def g(x):\n",
    "  if x['duration_ms'] > 21 and x['duration_ms'] < 42: return 'Medium'\n",
    "  elif x['duration_ms'] > 42: return 'Long'\n",
    "  else: return 'Short'\n",
    "\n",
    "df4['duration_ms_new'] = df4.apply(g, axis=1)"
   ]
  },
  {
   "cell_type": "code",
   "execution_count": 16,
   "id": "d9167479",
   "metadata": {},
   "outputs": [
    {
     "data": {
      "text/html": [
       "<div>\n",
       "<style scoped>\n",
       "    .dataframe tbody tr th:only-of-type {\n",
       "        vertical-align: middle;\n",
       "    }\n",
       "\n",
       "    .dataframe tbody tr th {\n",
       "        vertical-align: top;\n",
       "    }\n",
       "\n",
       "    .dataframe thead th {\n",
       "        text-align: right;\n",
       "    }\n",
       "</style>\n",
       "<table border=\"1\" class=\"dataframe\">\n",
       "  <thead>\n",
       "    <tr style=\"text-align: right;\">\n",
       "      <th></th>\n",
       "      <th>duration_ms</th>\n",
       "      <th>popularity</th>\n",
       "      <th>class_label</th>\n",
       "      <th>popularity_new</th>\n",
       "      <th>duration_ms_new</th>\n",
       "    </tr>\n",
       "  </thead>\n",
       "  <tbody>\n",
       "    <tr>\n",
       "      <th>17</th>\n",
       "      <td>28</td>\n",
       "      <td>85</td>\n",
       "      <td>A</td>\n",
       "      <td>popular</td>\n",
       "      <td>Medium</td>\n",
       "    </tr>\n",
       "    <tr>\n",
       "      <th>23</th>\n",
       "      <td>44</td>\n",
       "      <td>63</td>\n",
       "      <td>A</td>\n",
       "      <td>popular</td>\n",
       "      <td>Medium</td>\n",
       "    </tr>\n",
       "    <tr>\n",
       "      <th>1</th>\n",
       "      <td>3</td>\n",
       "      <td>92</td>\n",
       "      <td>A</td>\n",
       "      <td>popular</td>\n",
       "      <td>Short</td>\n",
       "    </tr>\n",
       "    <tr>\n",
       "      <th>44</th>\n",
       "      <td>28</td>\n",
       "      <td>57</td>\n",
       "      <td>A</td>\n",
       "      <td>average</td>\n",
       "      <td>Medium</td>\n",
       "    </tr>\n",
       "    <tr>\n",
       "      <th>55</th>\n",
       "      <td>50</td>\n",
       "      <td>69</td>\n",
       "      <td>B</td>\n",
       "      <td>popular</td>\n",
       "      <td>Medium</td>\n",
       "    </tr>\n",
       "    <tr>\n",
       "      <th>99</th>\n",
       "      <td>66</td>\n",
       "      <td>79</td>\n",
       "      <td>B</td>\n",
       "      <td>popular</td>\n",
       "      <td>Long</td>\n",
       "    </tr>\n",
       "    <tr>\n",
       "      <th>86</th>\n",
       "      <td>15</td>\n",
       "      <td>70</td>\n",
       "      <td>B</td>\n",
       "      <td>popular</td>\n",
       "      <td>Short</td>\n",
       "    </tr>\n",
       "    <tr>\n",
       "      <th>29</th>\n",
       "      <td>26</td>\n",
       "      <td>55</td>\n",
       "      <td>A</td>\n",
       "      <td>average</td>\n",
       "      <td>Short</td>\n",
       "    </tr>\n",
       "    <tr>\n",
       "      <th>62</th>\n",
       "      <td>20</td>\n",
       "      <td>0</td>\n",
       "      <td>B</td>\n",
       "      <td>not_popular</td>\n",
       "      <td>Short</td>\n",
       "    </tr>\n",
       "    <tr>\n",
       "      <th>33</th>\n",
       "      <td>43</td>\n",
       "      <td>60</td>\n",
       "      <td>A</td>\n",
       "      <td>average</td>\n",
       "      <td>Medium</td>\n",
       "    </tr>\n",
       "    <tr>\n",
       "      <th>98</th>\n",
       "      <td>23</td>\n",
       "      <td>76</td>\n",
       "      <td>B</td>\n",
       "      <td>popular</td>\n",
       "      <td>Short</td>\n",
       "    </tr>\n",
       "    <tr>\n",
       "      <th>12</th>\n",
       "      <td>76</td>\n",
       "      <td>64</td>\n",
       "      <td>A</td>\n",
       "      <td>popular</td>\n",
       "      <td>Long</td>\n",
       "    </tr>\n",
       "    <tr>\n",
       "      <th>11</th>\n",
       "      <td>56</td>\n",
       "      <td>65</td>\n",
       "      <td>A</td>\n",
       "      <td>popular</td>\n",
       "      <td>Long</td>\n",
       "    </tr>\n",
       "    <tr>\n",
       "      <th>39</th>\n",
       "      <td>49</td>\n",
       "      <td>64</td>\n",
       "      <td>A</td>\n",
       "      <td>popular</td>\n",
       "      <td>Medium</td>\n",
       "    </tr>\n",
       "    <tr>\n",
       "      <th>3</th>\n",
       "      <td>33</td>\n",
       "      <td>91</td>\n",
       "      <td>A</td>\n",
       "      <td>popular</td>\n",
       "      <td>Medium</td>\n",
       "    </tr>\n",
       "    <tr>\n",
       "      <th>41</th>\n",
       "      <td>53</td>\n",
       "      <td>77</td>\n",
       "      <td>A</td>\n",
       "      <td>popular</td>\n",
       "      <td>Medium</td>\n",
       "    </tr>\n",
       "    <tr>\n",
       "      <th>97</th>\n",
       "      <td>81</td>\n",
       "      <td>80</td>\n",
       "      <td>B</td>\n",
       "      <td>popular</td>\n",
       "      <td>Long</td>\n",
       "    </tr>\n",
       "    <tr>\n",
       "      <th>30</th>\n",
       "      <td>56</td>\n",
       "      <td>83</td>\n",
       "      <td>A</td>\n",
       "      <td>popular</td>\n",
       "      <td>Long</td>\n",
       "    </tr>\n",
       "    <tr>\n",
       "      <th>72</th>\n",
       "      <td>28</td>\n",
       "      <td>67</td>\n",
       "      <td>B</td>\n",
       "      <td>popular</td>\n",
       "      <td>Medium</td>\n",
       "    </tr>\n",
       "    <tr>\n",
       "      <th>43</th>\n",
       "      <td>32</td>\n",
       "      <td>92</td>\n",
       "      <td>A</td>\n",
       "      <td>popular</td>\n",
       "      <td>Medium</td>\n",
       "    </tr>\n",
       "  </tbody>\n",
       "</table>\n",
       "</div>"
      ],
      "text/plain": [
       "    duration_ms  popularity class_label popularity_new duration_ms_new\n",
       "17           28          85           A        popular          Medium\n",
       "23           44          63           A        popular          Medium\n",
       "1             3          92           A        popular           Short\n",
       "44           28          57           A        average          Medium\n",
       "55           50          69           B        popular          Medium\n",
       "99           66          79           B        popular            Long\n",
       "86           15          70           B        popular           Short\n",
       "29           26          55           A        average           Short\n",
       "62           20           0           B    not_popular           Short\n",
       "33           43          60           A        average          Medium\n",
       "98           23          76           B        popular           Short\n",
       "12           76          64           A        popular            Long\n",
       "11           56          65           A        popular            Long\n",
       "39           49          64           A        popular          Medium\n",
       "3            33          91           A        popular          Medium\n",
       "41           53          77           A        popular          Medium\n",
       "97           81          80           B        popular            Long\n",
       "30           56          83           A        popular            Long\n",
       "72           28          67           B        popular          Medium\n",
       "43           32          92           A        popular          Medium"
      ]
     },
     "execution_count": 16,
     "metadata": {},
     "output_type": "execute_result"
    }
   ],
   "source": [
    "# final datasets with new labels to csv.\n",
    "df.to_csv('SmallSongs.csv')\n",
    "df2.to_csv('SmallSongs2.csv')\n",
    "df3.to_csv('SmallSongs3.csv')\n",
    "df4.to_csv('SmallSongs4.csv')\n",
    "df # Here's the first one."
   ]
  },
  {
   "cell_type": "code",
   "execution_count": 17,
   "id": "06e2b06c",
   "metadata": {},
   "outputs": [],
   "source": [
    "# This is the function to help compute information Gain.\n",
    "def info(x, y):\n",
    "    x = float(x)\n",
    "    y = float(y)\n",
    "    if x == 0 or y == 0:\n",
    "        return 0\n",
    "    else:\n",
    "        return (-1)* (x/(x+y))* math.log(x/(x+y), 2 ) + (-1)* (y/(x+y))* math.log(y/(x+y), 2 )"
   ]
  },
  {
   "cell_type": "code",
   "execution_count": 18,
   "id": "4445fba2",
   "metadata": {},
   "outputs": [
    {
     "data": {
      "text/html": [
       "<div>\n",
       "<style scoped>\n",
       "    .dataframe tbody tr th:only-of-type {\n",
       "        vertical-align: middle;\n",
       "    }\n",
       "\n",
       "    .dataframe tbody tr th {\n",
       "        vertical-align: top;\n",
       "    }\n",
       "\n",
       "    .dataframe thead th {\n",
       "        text-align: right;\n",
       "    }\n",
       "</style>\n",
       "<table border=\"1\" class=\"dataframe\">\n",
       "  <thead>\n",
       "    <tr style=\"text-align: right;\">\n",
       "      <th></th>\n",
       "      <th>duration_ms</th>\n",
       "      <th>popularity</th>\n",
       "      <th>class_label</th>\n",
       "      <th>popularity_new</th>\n",
       "      <th>duration_ms_new</th>\n",
       "    </tr>\n",
       "  </thead>\n",
       "  <tbody>\n",
       "    <tr>\n",
       "      <th>17</th>\n",
       "      <td>28</td>\n",
       "      <td>85</td>\n",
       "      <td>A</td>\n",
       "      <td>popular</td>\n",
       "      <td>Medium</td>\n",
       "    </tr>\n",
       "    <tr>\n",
       "      <th>23</th>\n",
       "      <td>44</td>\n",
       "      <td>63</td>\n",
       "      <td>A</td>\n",
       "      <td>popular</td>\n",
       "      <td>Medium</td>\n",
       "    </tr>\n",
       "    <tr>\n",
       "      <th>1</th>\n",
       "      <td>3</td>\n",
       "      <td>92</td>\n",
       "      <td>A</td>\n",
       "      <td>popular</td>\n",
       "      <td>Short</td>\n",
       "    </tr>\n",
       "    <tr>\n",
       "      <th>44</th>\n",
       "      <td>28</td>\n",
       "      <td>57</td>\n",
       "      <td>A</td>\n",
       "      <td>average</td>\n",
       "      <td>Medium</td>\n",
       "    </tr>\n",
       "    <tr>\n",
       "      <th>55</th>\n",
       "      <td>50</td>\n",
       "      <td>69</td>\n",
       "      <td>B</td>\n",
       "      <td>popular</td>\n",
       "      <td>Medium</td>\n",
       "    </tr>\n",
       "    <tr>\n",
       "      <th>99</th>\n",
       "      <td>66</td>\n",
       "      <td>79</td>\n",
       "      <td>B</td>\n",
       "      <td>popular</td>\n",
       "      <td>Long</td>\n",
       "    </tr>\n",
       "    <tr>\n",
       "      <th>86</th>\n",
       "      <td>15</td>\n",
       "      <td>70</td>\n",
       "      <td>B</td>\n",
       "      <td>popular</td>\n",
       "      <td>Short</td>\n",
       "    </tr>\n",
       "    <tr>\n",
       "      <th>29</th>\n",
       "      <td>26</td>\n",
       "      <td>55</td>\n",
       "      <td>A</td>\n",
       "      <td>average</td>\n",
       "      <td>Short</td>\n",
       "    </tr>\n",
       "    <tr>\n",
       "      <th>62</th>\n",
       "      <td>20</td>\n",
       "      <td>0</td>\n",
       "      <td>B</td>\n",
       "      <td>not_popular</td>\n",
       "      <td>Short</td>\n",
       "    </tr>\n",
       "    <tr>\n",
       "      <th>33</th>\n",
       "      <td>43</td>\n",
       "      <td>60</td>\n",
       "      <td>A</td>\n",
       "      <td>average</td>\n",
       "      <td>Medium</td>\n",
       "    </tr>\n",
       "    <tr>\n",
       "      <th>98</th>\n",
       "      <td>23</td>\n",
       "      <td>76</td>\n",
       "      <td>B</td>\n",
       "      <td>popular</td>\n",
       "      <td>Short</td>\n",
       "    </tr>\n",
       "    <tr>\n",
       "      <th>12</th>\n",
       "      <td>76</td>\n",
       "      <td>64</td>\n",
       "      <td>A</td>\n",
       "      <td>popular</td>\n",
       "      <td>Long</td>\n",
       "    </tr>\n",
       "    <tr>\n",
       "      <th>11</th>\n",
       "      <td>56</td>\n",
       "      <td>65</td>\n",
       "      <td>A</td>\n",
       "      <td>popular</td>\n",
       "      <td>Long</td>\n",
       "    </tr>\n",
       "    <tr>\n",
       "      <th>39</th>\n",
       "      <td>49</td>\n",
       "      <td>64</td>\n",
       "      <td>A</td>\n",
       "      <td>popular</td>\n",
       "      <td>Medium</td>\n",
       "    </tr>\n",
       "    <tr>\n",
       "      <th>3</th>\n",
       "      <td>33</td>\n",
       "      <td>91</td>\n",
       "      <td>A</td>\n",
       "      <td>popular</td>\n",
       "      <td>Medium</td>\n",
       "    </tr>\n",
       "    <tr>\n",
       "      <th>41</th>\n",
       "      <td>53</td>\n",
       "      <td>77</td>\n",
       "      <td>A</td>\n",
       "      <td>popular</td>\n",
       "      <td>Medium</td>\n",
       "    </tr>\n",
       "    <tr>\n",
       "      <th>97</th>\n",
       "      <td>81</td>\n",
       "      <td>80</td>\n",
       "      <td>B</td>\n",
       "      <td>popular</td>\n",
       "      <td>Long</td>\n",
       "    </tr>\n",
       "    <tr>\n",
       "      <th>30</th>\n",
       "      <td>56</td>\n",
       "      <td>83</td>\n",
       "      <td>A</td>\n",
       "      <td>popular</td>\n",
       "      <td>Long</td>\n",
       "    </tr>\n",
       "    <tr>\n",
       "      <th>72</th>\n",
       "      <td>28</td>\n",
       "      <td>67</td>\n",
       "      <td>B</td>\n",
       "      <td>popular</td>\n",
       "      <td>Medium</td>\n",
       "    </tr>\n",
       "    <tr>\n",
       "      <th>43</th>\n",
       "      <td>32</td>\n",
       "      <td>92</td>\n",
       "      <td>A</td>\n",
       "      <td>popular</td>\n",
       "      <td>Medium</td>\n",
       "    </tr>\n",
       "  </tbody>\n",
       "</table>\n",
       "</div>"
      ],
      "text/plain": [
       "    duration_ms  popularity class_label popularity_new duration_ms_new\n",
       "17           28          85           A        popular          Medium\n",
       "23           44          63           A        popular          Medium\n",
       "1             3          92           A        popular           Short\n",
       "44           28          57           A        average          Medium\n",
       "55           50          69           B        popular          Medium\n",
       "99           66          79           B        popular            Long\n",
       "86           15          70           B        popular           Short\n",
       "29           26          55           A        average           Short\n",
       "62           20           0           B    not_popular           Short\n",
       "33           43          60           A        average          Medium\n",
       "98           23          76           B        popular           Short\n",
       "12           76          64           A        popular            Long\n",
       "11           56          65           A        popular            Long\n",
       "39           49          64           A        popular          Medium\n",
       "3            33          91           A        popular          Medium\n",
       "41           53          77           A        popular          Medium\n",
       "97           81          80           B        popular            Long\n",
       "30           56          83           A        popular            Long\n",
       "72           28          67           B        popular          Medium\n",
       "43           32          92           A        popular          Medium"
      ]
     },
     "execution_count": 18,
     "metadata": {},
     "output_type": "execute_result"
    }
   ],
   "source": [
    "# Here is the first dataset with all labels included. The _new columns are what the functions above classified. \n",
    "df"
   ]
  },
  {
   "cell_type": "code",
   "execution_count": 19,
   "id": "832fae6f",
   "metadata": {},
   "outputs": [
    {
     "data": {
      "text/plain": [
       "(Medium    10\n",
       " Long       5\n",
       " Short      5\n",
       " Name: duration_ms_new, dtype: int64,\n",
       " popular        16\n",
       " average         3\n",
       " not_popular     1\n",
       " Name: popularity_new, dtype: int64,\n",
       " A    13\n",
       " B     7\n",
       " Name: class_label, dtype: int64)"
      ]
     },
     "execution_count": 19,
     "metadata": {},
     "output_type": "execute_result"
    }
   ],
   "source": [
    "# this is a quick tally so that I could easily figure out my math below.\n",
    "df['duration_ms_new'].value_counts(),df['popularity_new'].value_counts(), df['class_label'].value_counts()"
   ]
  },
  {
   "cell_type": "markdown",
   "id": "8d40e1b0",
   "metadata": {},
   "source": [
    "# Dataset 1\n",
    "In this dataset and all datasets I randomly generated 20 objects from my original dataset of Songs with 100 objects. In dataset number 1 (df) I have the following: Class Labels (A - 13, B - 7), Duration ( Medium - 10, Long - 5, and Short - 5), and Popularity (Popular - 16, Average - 3, and Not Popular - 1). Below is my math to find decision tree. "
   ]
  },
  {
   "cell_type": "code",
   "execution_count": 20,
   "id": "d7e205ef",
   "metadata": {},
   "outputs": [
    {
     "data": {
      "text/plain": [
       "0.934068055375491"
      ]
     },
     "execution_count": 20,
     "metadata": {},
     "output_type": "execute_result"
    }
   ],
   "source": [
    "# Information for whole decision on 'A' label_class for df\n",
    "-(13.0/20)*math.log(13.0/20, 2) - (7.0/20)*math.log(7.0/20, 2)"
   ]
  },
  {
   "cell_type": "code",
   "execution_count": 21,
   "id": "7ebc16cf",
   "metadata": {},
   "outputs": [
    {
     "data": {
      "text/plain": [
       "0.934068055375491"
      ]
     },
     "execution_count": 21,
     "metadata": {},
     "output_type": "execute_result"
    }
   ],
   "source": [
    "# Check Function to see if it working. It is! Same result as above\n",
    "\n",
    "info(13.0,7) # Info D df"
   ]
  },
  {
   "cell_type": "code",
   "execution_count": 22,
   "id": "3e06bf07",
   "metadata": {},
   "outputs": [
    {
     "data": {
      "text/plain": [
       "0.8464393446710154"
      ]
     },
     "execution_count": 22,
     "metadata": {},
     "output_type": "execute_result"
    }
   ],
   "source": [
    "# info D 'duration' Attribute dataset 1 (df)\n",
    "(10.0/20) * info(8,2) + (5.0/20) * info(2,3) + (5.0/20) * info(3,2)"
   ]
  },
  {
   "cell_type": "code",
   "execution_count": 23,
   "id": "be20eb67",
   "metadata": {},
   "outputs": [
    {
     "data": {
      "text/plain": [
       "0.08762871070447553"
      ]
     },
     "execution_count": 23,
     "metadata": {},
     "output_type": "execute_result"
    }
   ],
   "source": [
    "# Gain(duration) = Info(D) - Info_duration(D) dataset 1(df)\n",
    "# 0.934068055375491 - 0.8464393446710154 just check if it is right! It is!\n",
    "info(13.0,7) - ((10.0/20) * info(8,2) + (5.0/20) * info(2,3) + (5.0/20) * info(3,2))"
   ]
  },
  {
   "cell_type": "code",
   "execution_count": 24,
   "id": "de3fc17b",
   "metadata": {},
   "outputs": [
    {
     "data": {
      "text/plain": [
       "0.763547202339972"
      ]
     },
     "execution_count": 24,
     "metadata": {},
     "output_type": "execute_result"
    }
   ],
   "source": [
    "# info D 'popularity' Attribute (df)\n",
    "(16.0/20) * info(10,6) + (3.0/20) * info(3,0) + (1/20) * info(0,1)"
   ]
  },
  {
   "cell_type": "code",
   "execution_count": 25,
   "id": "ccdbd46f",
   "metadata": {},
   "outputs": [
    {
     "data": {
      "text/plain": [
       "0.170520853035519"
      ]
     },
     "execution_count": 25,
     "metadata": {},
     "output_type": "execute_result"
    }
   ],
   "source": [
    "# Gain (popularity) = Info(D) - Info_popularity(D) dataset 1 (df)\n",
    "info(13.0,7) - ((16.0/20) * info(10,6) + (3.0/20) * info(3,0) + (1/20) * info(0,1))"
   ]
  },
  {
   "cell_type": "markdown",
   "id": "3f75fe53",
   "metadata": {},
   "source": [
    "# Decision Tree for dataset 1 (df)"
   ]
  },
  {
   "cell_type": "markdown",
   "id": "1e9e1898",
   "metadata": {},
   "source": [
    "# Using sklearn\n",
    "Below I am getting numerical values for X and Y. X is pairs of duration and popularity, and Y is the class labels. I then use sklearn to fit the data and then to predict the data. "
   ]
  },
  {
   "cell_type": "code",
   "execution_count": 26,
   "id": "ac8c510f",
   "metadata": {},
   "outputs": [],
   "source": [
    "X_list = df['duration_ms'].to_list()\n",
    "Y_list = df['popularity'].to_list()\n",
    "Z_list = df['class_label'].to_list()\n",
    "X = list(zip(X_list, Y_list))\n",
    "Y = Z_list"
   ]
  },
  {
   "cell_type": "code",
   "execution_count": 27,
   "id": "1fa53bba",
   "metadata": {},
   "outputs": [],
   "source": [
    "# I commented out to save room. But I wanted to see what this looked like.\n",
    "# X, Y"
   ]
  },
  {
   "cell_type": "code",
   "execution_count": 28,
   "id": "16f27440",
   "metadata": {},
   "outputs": [],
   "source": [
    "# Train the decision tree; construct the decision tree; learn the decision tree\n",
    "clf = tree.DecisionTreeClassifier()\n",
    "clf = clf.fit(X, Y)"
   ]
  },
  {
   "cell_type": "code",
   "execution_count": 29,
   "id": "a352c945",
   "metadata": {},
   "outputs": [
    {
     "data": {
      "text/plain": [
       "array(['B'], dtype='<U1')"
      ]
     },
     "execution_count": 29,
     "metadata": {},
     "output_type": "execute_result"
    }
   ],
   "source": [
    "# predict a sample\n",
    "clf.predict([[21, 50]])"
   ]
  },
  {
   "cell_type": "code",
   "execution_count": 30,
   "id": "5d905de8",
   "metadata": {},
   "outputs": [
    {
     "data": {
      "text/plain": [
       "array(['A'], dtype='<U1')"
      ]
     },
     "execution_count": 30,
     "metadata": {},
     "output_type": "execute_result"
    }
   ],
   "source": [
    "# predict another sample\n",
    "clf.predict([[22, 85]])"
   ]
  },
  {
   "cell_type": "markdown",
   "id": "26f51e26",
   "metadata": {},
   "source": [
    "# Dataset 2"
   ]
  },
  {
   "cell_type": "code",
   "execution_count": 31,
   "id": "1aa51769",
   "metadata": {},
   "outputs": [
    {
     "data": {
      "text/html": [
       "<div>\n",
       "<style scoped>\n",
       "    .dataframe tbody tr th:only-of-type {\n",
       "        vertical-align: middle;\n",
       "    }\n",
       "\n",
       "    .dataframe tbody tr th {\n",
       "        vertical-align: top;\n",
       "    }\n",
       "\n",
       "    .dataframe thead th {\n",
       "        text-align: right;\n",
       "    }\n",
       "</style>\n",
       "<table border=\"1\" class=\"dataframe\">\n",
       "  <thead>\n",
       "    <tr style=\"text-align: right;\">\n",
       "      <th></th>\n",
       "      <th>duration_ms</th>\n",
       "      <th>popularity</th>\n",
       "      <th>class_label</th>\n",
       "      <th>popularity_new</th>\n",
       "      <th>duration_ms_new</th>\n",
       "    </tr>\n",
       "  </thead>\n",
       "  <tbody>\n",
       "    <tr>\n",
       "      <th>66</th>\n",
       "      <td>49</td>\n",
       "      <td>91</td>\n",
       "      <td>B</td>\n",
       "      <td>popular</td>\n",
       "      <td>Medium</td>\n",
       "    </tr>\n",
       "    <tr>\n",
       "      <th>32</th>\n",
       "      <td>34</td>\n",
       "      <td>67</td>\n",
       "      <td>A</td>\n",
       "      <td>popular</td>\n",
       "      <td>Medium</td>\n",
       "    </tr>\n",
       "    <tr>\n",
       "      <th>46</th>\n",
       "      <td>21</td>\n",
       "      <td>50</td>\n",
       "      <td>A</td>\n",
       "      <td>average</td>\n",
       "      <td>Short</td>\n",
       "    </tr>\n",
       "    <tr>\n",
       "      <th>28</th>\n",
       "      <td>82</td>\n",
       "      <td>63</td>\n",
       "      <td>A</td>\n",
       "      <td>average</td>\n",
       "      <td>Long</td>\n",
       "    </tr>\n",
       "    <tr>\n",
       "      <th>74</th>\n",
       "      <td>35</td>\n",
       "      <td>65</td>\n",
       "      <td>B</td>\n",
       "      <td>popular</td>\n",
       "      <td>Medium</td>\n",
       "    </tr>\n",
       "    <tr>\n",
       "      <th>23</th>\n",
       "      <td>44</td>\n",
       "      <td>63</td>\n",
       "      <td>A</td>\n",
       "      <td>average</td>\n",
       "      <td>Medium</td>\n",
       "    </tr>\n",
       "    <tr>\n",
       "      <th>10</th>\n",
       "      <td>41</td>\n",
       "      <td>1</td>\n",
       "      <td>A</td>\n",
       "      <td>not_popular</td>\n",
       "      <td>Medium</td>\n",
       "    </tr>\n",
       "    <tr>\n",
       "      <th>20</th>\n",
       "      <td>29</td>\n",
       "      <td>97</td>\n",
       "      <td>A</td>\n",
       "      <td>popular</td>\n",
       "      <td>Medium</td>\n",
       "    </tr>\n",
       "    <tr>\n",
       "      <th>17</th>\n",
       "      <td>28</td>\n",
       "      <td>85</td>\n",
       "      <td>A</td>\n",
       "      <td>popular</td>\n",
       "      <td>Medium</td>\n",
       "    </tr>\n",
       "    <tr>\n",
       "      <th>35</th>\n",
       "      <td>60</td>\n",
       "      <td>69</td>\n",
       "      <td>A</td>\n",
       "      <td>popular</td>\n",
       "      <td>Long</td>\n",
       "    </tr>\n",
       "    <tr>\n",
       "      <th>97</th>\n",
       "      <td>81</td>\n",
       "      <td>80</td>\n",
       "      <td>B</td>\n",
       "      <td>popular</td>\n",
       "      <td>Long</td>\n",
       "    </tr>\n",
       "    <tr>\n",
       "      <th>37</th>\n",
       "      <td>64</td>\n",
       "      <td>80</td>\n",
       "      <td>A</td>\n",
       "      <td>popular</td>\n",
       "      <td>Long</td>\n",
       "    </tr>\n",
       "    <tr>\n",
       "      <th>70</th>\n",
       "      <td>43</td>\n",
       "      <td>64</td>\n",
       "      <td>B</td>\n",
       "      <td>not_popular</td>\n",
       "      <td>Medium</td>\n",
       "    </tr>\n",
       "    <tr>\n",
       "      <th>40</th>\n",
       "      <td>30</td>\n",
       "      <td>63</td>\n",
       "      <td>A</td>\n",
       "      <td>average</td>\n",
       "      <td>Medium</td>\n",
       "    </tr>\n",
       "    <tr>\n",
       "      <th>60</th>\n",
       "      <td>30</td>\n",
       "      <td>67</td>\n",
       "      <td>B</td>\n",
       "      <td>popular</td>\n",
       "      <td>Medium</td>\n",
       "    </tr>\n",
       "    <tr>\n",
       "      <th>34</th>\n",
       "      <td>43</td>\n",
       "      <td>67</td>\n",
       "      <td>A</td>\n",
       "      <td>popular</td>\n",
       "      <td>Medium</td>\n",
       "    </tr>\n",
       "    <tr>\n",
       "      <th>42</th>\n",
       "      <td>8</td>\n",
       "      <td>42</td>\n",
       "      <td>A</td>\n",
       "      <td>average</td>\n",
       "      <td>Short</td>\n",
       "    </tr>\n",
       "    <tr>\n",
       "      <th>57</th>\n",
       "      <td>43</td>\n",
       "      <td>73</td>\n",
       "      <td>B</td>\n",
       "      <td>popular</td>\n",
       "      <td>Medium</td>\n",
       "    </tr>\n",
       "    <tr>\n",
       "      <th>12</th>\n",
       "      <td>76</td>\n",
       "      <td>64</td>\n",
       "      <td>A</td>\n",
       "      <td>not_popular</td>\n",
       "      <td>Long</td>\n",
       "    </tr>\n",
       "    <tr>\n",
       "      <th>69</th>\n",
       "      <td>53</td>\n",
       "      <td>77</td>\n",
       "      <td>B</td>\n",
       "      <td>popular</td>\n",
       "      <td>Medium</td>\n",
       "    </tr>\n",
       "  </tbody>\n",
       "</table>\n",
       "</div>"
      ],
      "text/plain": [
       "    duration_ms  popularity class_label popularity_new duration_ms_new\n",
       "66           49          91           B        popular          Medium\n",
       "32           34          67           A        popular          Medium\n",
       "46           21          50           A        average           Short\n",
       "28           82          63           A        average            Long\n",
       "74           35          65           B        popular          Medium\n",
       "23           44          63           A        average          Medium\n",
       "10           41           1           A    not_popular          Medium\n",
       "20           29          97           A        popular          Medium\n",
       "17           28          85           A        popular          Medium\n",
       "35           60          69           A        popular            Long\n",
       "97           81          80           B        popular            Long\n",
       "37           64          80           A        popular            Long\n",
       "70           43          64           B    not_popular          Medium\n",
       "40           30          63           A        average          Medium\n",
       "60           30          67           B        popular          Medium\n",
       "34           43          67           A        popular          Medium\n",
       "42            8          42           A        average           Short\n",
       "57           43          73           B        popular          Medium\n",
       "12           76          64           A    not_popular            Long\n",
       "69           53          77           B        popular          Medium"
      ]
     },
     "execution_count": 31,
     "metadata": {},
     "output_type": "execute_result"
    }
   ],
   "source": [
    "# Here is Dataset Number 2.\n",
    "df2"
   ]
  },
  {
   "cell_type": "code",
   "execution_count": 32,
   "id": "1cfc4de7",
   "metadata": {},
   "outputs": [
    {
     "data": {
      "text/plain": [
       "(Medium    13\n",
       " Long       5\n",
       " Short      2\n",
       " Name: duration_ms_new, dtype: int64,\n",
       " popular        12\n",
       " average         5\n",
       " not_popular     3\n",
       " Name: popularity_new, dtype: int64,\n",
       " A    13\n",
       " B     7\n",
       " Name: class_label, dtype: int64)"
      ]
     },
     "execution_count": 32,
     "metadata": {},
     "output_type": "execute_result"
    }
   ],
   "source": [
    "# Tally for reference for math below of dataset 2.\n",
    "df2['duration_ms_new'].value_counts(),df2['popularity_new'].value_counts(), df2['class_label'].value_counts()"
   ]
  },
  {
   "cell_type": "markdown",
   "id": "ae4a67e0",
   "metadata": {},
   "source": [
    "# Dataset 2 (df2)\n",
    "In this dataset and all datasets I randomly generated 20 objects from my original dataset of Songs with 100 objects. In dataset number 2 (df2) I have the following: Class Labels (A - 13, B - 7), Duration ( Medium - 13, Long - 5, and Short - 2), and Popularity (Popular - 12, Average - 5, and Not Popular - 3). Below is my math to find decision tree. "
   ]
  },
  {
   "cell_type": "code",
   "execution_count": 33,
   "id": "8df3f8b6",
   "metadata": {},
   "outputs": [
    {
     "data": {
      "text/plain": [
       "0.934068055375491"
      ]
     },
     "execution_count": 33,
     "metadata": {},
     "output_type": "execute_result"
    }
   ],
   "source": [
    "# Information for whole decision on 'A' label_class for dataset 2 (df2)\n",
    "info(13.0,7) # Info D df2"
   ]
  },
  {
   "cell_type": "code",
   "execution_count": 34,
   "id": "05762c6a",
   "metadata": {},
   "outputs": [
    {
     "data": {
      "text/plain": [
       "0.8277048675770422"
      ]
     },
     "execution_count": 34,
     "metadata": {},
     "output_type": "execute_result"
    }
   ],
   "source": [
    "# info D 'duration' Attribute (df2)\n",
    "(13.0/20) * info(7,6) + (2.0/20) * info(2,0) + (5.0/20) * info(4,1)"
   ]
  },
  {
   "cell_type": "code",
   "execution_count": 35,
   "id": "d4b8c63e",
   "metadata": {},
   "outputs": [
    {
     "data": {
      "text/plain": [
       "0.10636318779844878"
      ]
     },
     "execution_count": 35,
     "metadata": {},
     "output_type": "execute_result"
    }
   ],
   "source": [
    "# Gain(duration) = Info(D) - Info_duration(D) dataset 2 (df2)\n",
    "info(13.0,7) - ((13.0/20) * info(7,6) + (2.0/20) * info(2,0) + (5.0/20) * info(4,1))"
   ]
  },
  {
   "cell_type": "code",
   "execution_count": 36,
   "id": "b7f6d1eb",
   "metadata": {},
   "outputs": [
    {
     "data": {
      "text/plain": [
       "0.7377443751081734"
      ]
     },
     "execution_count": 36,
     "metadata": {},
     "output_type": "execute_result"
    }
   ],
   "source": [
    "# info D 'popularity' Attribute (df2)\n",
    "(12.0/20) * info(6,6) + (5.0/20) * info(5,0) + (3.0/20) * info(2,1)"
   ]
  },
  {
   "cell_type": "code",
   "execution_count": 37,
   "id": "7cc17f71",
   "metadata": {},
   "outputs": [
    {
     "data": {
      "text/plain": [
       "0.1963236802673176"
      ]
     },
     "execution_count": 37,
     "metadata": {},
     "output_type": "execute_result"
    }
   ],
   "source": [
    "# Gain(popularity) = Info(D) - Info_popularity(D) dataset 2 (df2)\n",
    "info(13.0,7) - ((12.0/20) * info(6,6) + (5.0/20) * info(5,0) + (3.0/20) * info(2,1))"
   ]
  },
  {
   "cell_type": "markdown",
   "id": "8134e7b6",
   "metadata": {},
   "source": [
    "# Decision Tree for dataset 2 (df2)"
   ]
  },
  {
   "cell_type": "markdown",
   "id": "fef197f1",
   "metadata": {},
   "source": [
    "# Using sklearn for (df2)\n",
    "Now, I get numerical values for X and Y. X is pairs of duration and popularity, and Y is the class labels. I then use sklearn to fit the data and then to predict the data. "
   ]
  },
  {
   "cell_type": "code",
   "execution_count": 38,
   "id": "114eb7ac",
   "metadata": {},
   "outputs": [],
   "source": [
    "X_list = df2['duration_ms'].to_list()\n",
    "Y_list = df2['popularity'].to_list()\n",
    "Z_list = df2['class_label'].to_list()\n",
    "X = list(zip(X_list, Y_list))\n",
    "Y = Z_list"
   ]
  },
  {
   "cell_type": "code",
   "execution_count": 39,
   "id": "5e1fcc78",
   "metadata": {},
   "outputs": [],
   "source": [
    "# commented out to save room like above.\n",
    "# X, Y"
   ]
  },
  {
   "cell_type": "code",
   "execution_count": 40,
   "id": "e7998c50",
   "metadata": {},
   "outputs": [],
   "source": [
    "# Train the decision tree; construct the decision tree; learn the decision tree\n",
    "clf = tree.DecisionTreeClassifier()\n",
    "clf = clf.fit(X, Y)"
   ]
  },
  {
   "cell_type": "code",
   "execution_count": 41,
   "id": "dbbaf348",
   "metadata": {},
   "outputs": [
    {
     "data": {
      "text/plain": [
       "array(['A'], dtype='<U1')"
      ]
     },
     "execution_count": 41,
     "metadata": {},
     "output_type": "execute_result"
    }
   ],
   "source": [
    "# predict a sample\n",
    "clf.predict([[8, 15]])"
   ]
  },
  {
   "cell_type": "code",
   "execution_count": 42,
   "id": "65c8f196",
   "metadata": {},
   "outputs": [
    {
     "data": {
      "text/plain": [
       "array(['A'], dtype='<U1')"
      ]
     },
     "execution_count": 42,
     "metadata": {},
     "output_type": "execute_result"
    }
   ],
   "source": [
    "# predict another sample\n",
    "clf.predict([[14, 98]])"
   ]
  },
  {
   "cell_type": "markdown",
   "id": "ec59c594",
   "metadata": {},
   "source": [
    "# Dataset 3"
   ]
  },
  {
   "cell_type": "code",
   "execution_count": 43,
   "id": "d17e73e1",
   "metadata": {},
   "outputs": [
    {
     "data": {
      "text/html": [
       "<div>\n",
       "<style scoped>\n",
       "    .dataframe tbody tr th:only-of-type {\n",
       "        vertical-align: middle;\n",
       "    }\n",
       "\n",
       "    .dataframe tbody tr th {\n",
       "        vertical-align: top;\n",
       "    }\n",
       "\n",
       "    .dataframe thead th {\n",
       "        text-align: right;\n",
       "    }\n",
       "</style>\n",
       "<table border=\"1\" class=\"dataframe\">\n",
       "  <thead>\n",
       "    <tr style=\"text-align: right;\">\n",
       "      <th></th>\n",
       "      <th>duration_ms</th>\n",
       "      <th>popularity</th>\n",
       "      <th>class_label</th>\n",
       "      <th>popularity_new</th>\n",
       "      <th>duration_ms_new</th>\n",
       "    </tr>\n",
       "  </thead>\n",
       "  <tbody>\n",
       "    <tr>\n",
       "      <th>37</th>\n",
       "      <td>64</td>\n",
       "      <td>80</td>\n",
       "      <td>A</td>\n",
       "      <td>popular</td>\n",
       "      <td>Short</td>\n",
       "    </tr>\n",
       "    <tr>\n",
       "      <th>26</th>\n",
       "      <td>34</td>\n",
       "      <td>80</td>\n",
       "      <td>A</td>\n",
       "      <td>popular</td>\n",
       "      <td>Medium</td>\n",
       "    </tr>\n",
       "    <tr>\n",
       "      <th>78</th>\n",
       "      <td>34</td>\n",
       "      <td>60</td>\n",
       "      <td>B</td>\n",
       "      <td>average</td>\n",
       "      <td>Medium</td>\n",
       "    </tr>\n",
       "    <tr>\n",
       "      <th>91</th>\n",
       "      <td>36</td>\n",
       "      <td>81</td>\n",
       "      <td>B</td>\n",
       "      <td>popular</td>\n",
       "      <td>Medium</td>\n",
       "    </tr>\n",
       "    <tr>\n",
       "      <th>49</th>\n",
       "      <td>43</td>\n",
       "      <td>60</td>\n",
       "      <td>A</td>\n",
       "      <td>average</td>\n",
       "      <td>Medium</td>\n",
       "    </tr>\n",
       "    <tr>\n",
       "      <th>15</th>\n",
       "      <td>64</td>\n",
       "      <td>62</td>\n",
       "      <td>A</td>\n",
       "      <td>average</td>\n",
       "      <td>Short</td>\n",
       "    </tr>\n",
       "    <tr>\n",
       "      <th>93</th>\n",
       "      <td>24</td>\n",
       "      <td>79</td>\n",
       "      <td>B</td>\n",
       "      <td>popular</td>\n",
       "      <td>Short</td>\n",
       "    </tr>\n",
       "    <tr>\n",
       "      <th>71</th>\n",
       "      <td>22</td>\n",
       "      <td>64</td>\n",
       "      <td>B</td>\n",
       "      <td>not_popular</td>\n",
       "      <td>Short</td>\n",
       "    </tr>\n",
       "    <tr>\n",
       "      <th>86</th>\n",
       "      <td>15</td>\n",
       "      <td>70</td>\n",
       "      <td>B</td>\n",
       "      <td>popular</td>\n",
       "      <td>Short</td>\n",
       "    </tr>\n",
       "    <tr>\n",
       "      <th>22</th>\n",
       "      <td>42</td>\n",
       "      <td>72</td>\n",
       "      <td>A</td>\n",
       "      <td>popular</td>\n",
       "      <td>Medium</td>\n",
       "    </tr>\n",
       "    <tr>\n",
       "      <th>13</th>\n",
       "      <td>65</td>\n",
       "      <td>72</td>\n",
       "      <td>A</td>\n",
       "      <td>popular</td>\n",
       "      <td>Long</td>\n",
       "    </tr>\n",
       "    <tr>\n",
       "      <th>40</th>\n",
       "      <td>30</td>\n",
       "      <td>63</td>\n",
       "      <td>A</td>\n",
       "      <td>average</td>\n",
       "      <td>Short</td>\n",
       "    </tr>\n",
       "    <tr>\n",
       "      <th>52</th>\n",
       "      <td>43</td>\n",
       "      <td>64</td>\n",
       "      <td>B</td>\n",
       "      <td>not_popular</td>\n",
       "      <td>Medium</td>\n",
       "    </tr>\n",
       "    <tr>\n",
       "      <th>12</th>\n",
       "      <td>76</td>\n",
       "      <td>64</td>\n",
       "      <td>A</td>\n",
       "      <td>not_popular</td>\n",
       "      <td>Long</td>\n",
       "    </tr>\n",
       "    <tr>\n",
       "      <th>88</th>\n",
       "      <td>97</td>\n",
       "      <td>65</td>\n",
       "      <td>B</td>\n",
       "      <td>popular</td>\n",
       "      <td>Long</td>\n",
       "    </tr>\n",
       "    <tr>\n",
       "      <th>45</th>\n",
       "      <td>39</td>\n",
       "      <td>79</td>\n",
       "      <td>A</td>\n",
       "      <td>popular</td>\n",
       "      <td>Medium</td>\n",
       "    </tr>\n",
       "    <tr>\n",
       "      <th>11</th>\n",
       "      <td>56</td>\n",
       "      <td>65</td>\n",
       "      <td>A</td>\n",
       "      <td>popular</td>\n",
       "      <td>Medium</td>\n",
       "    </tr>\n",
       "    <tr>\n",
       "      <th>66</th>\n",
       "      <td>49</td>\n",
       "      <td>91</td>\n",
       "      <td>B</td>\n",
       "      <td>popular</td>\n",
       "      <td>Medium</td>\n",
       "    </tr>\n",
       "    <tr>\n",
       "      <th>20</th>\n",
       "      <td>29</td>\n",
       "      <td>97</td>\n",
       "      <td>A</td>\n",
       "      <td>popular</td>\n",
       "      <td>Short</td>\n",
       "    </tr>\n",
       "    <tr>\n",
       "      <th>18</th>\n",
       "      <td>65</td>\n",
       "      <td>74</td>\n",
       "      <td>A</td>\n",
       "      <td>popular</td>\n",
       "      <td>Long</td>\n",
       "    </tr>\n",
       "  </tbody>\n",
       "</table>\n",
       "</div>"
      ],
      "text/plain": [
       "    duration_ms  popularity class_label popularity_new duration_ms_new\n",
       "37           64          80           A        popular           Short\n",
       "26           34          80           A        popular          Medium\n",
       "78           34          60           B        average          Medium\n",
       "91           36          81           B        popular          Medium\n",
       "49           43          60           A        average          Medium\n",
       "15           64          62           A        average           Short\n",
       "93           24          79           B        popular           Short\n",
       "71           22          64           B    not_popular           Short\n",
       "86           15          70           B        popular           Short\n",
       "22           42          72           A        popular          Medium\n",
       "13           65          72           A        popular            Long\n",
       "40           30          63           A        average           Short\n",
       "52           43          64           B    not_popular          Medium\n",
       "12           76          64           A    not_popular            Long\n",
       "88           97          65           B        popular            Long\n",
       "45           39          79           A        popular          Medium\n",
       "11           56          65           A        popular          Medium\n",
       "66           49          91           B        popular          Medium\n",
       "20           29          97           A        popular           Short\n",
       "18           65          74           A        popular            Long"
      ]
     },
     "execution_count": 43,
     "metadata": {},
     "output_type": "execute_result"
    }
   ],
   "source": [
    "# Here's dataset 3.\n",
    "df3"
   ]
  },
  {
   "cell_type": "code",
   "execution_count": 44,
   "id": "5cca6333",
   "metadata": {},
   "outputs": [
    {
     "data": {
      "text/plain": [
       "(Medium    9\n",
       " Short     7\n",
       " Long      4\n",
       " Name: duration_ms_new, dtype: int64,\n",
       " popular        13\n",
       " average         4\n",
       " not_popular     3\n",
       " Name: popularity_new, dtype: int64,\n",
       " A    12\n",
       " B     8\n",
       " Name: class_label, dtype: int64)"
      ]
     },
     "execution_count": 44,
     "metadata": {},
     "output_type": "execute_result"
    }
   ],
   "source": [
    "# Tally of dataset 3 for math below.\n",
    "df3['duration_ms_new'].value_counts(),df3['popularity_new'].value_counts(), df3['class_label'].value_counts()"
   ]
  },
  {
   "cell_type": "markdown",
   "id": "9cfb51e5",
   "metadata": {},
   "source": [
    "# Dataset 3 (df3)\n",
    "In this dataset and all datasets I randomly generated 20 objects from my original dataset of Songs with 100 objects. In dataset number 3 (df3) I have the following: Class Labels (A - 12, B - 8), Duration ( Medium - 9, Long - 4, and Short - 7), and Popularity (Popular - 13, Average - 4, and Not Popular - 3). Below is my math to find decision tree."
   ]
  },
  {
   "cell_type": "code",
   "execution_count": 45,
   "id": "ad61731a",
   "metadata": {},
   "outputs": [
    {
     "data": {
      "text/plain": [
       "0.9709505944546686"
      ]
     },
     "execution_count": 45,
     "metadata": {},
     "output_type": "execute_result"
    }
   ],
   "source": [
    "# Information for whole decision on 'A' label_class for dataset 3 (df3)\n",
    "info(12.0,8) # Info D df3"
   ]
  },
  {
   "cell_type": "code",
   "execution_count": 46,
   "id": "f865bd3b",
   "metadata": {},
   "outputs": [
    {
     "data": {
      "text/plain": [
       "0.9530696994310146"
      ]
     },
     "execution_count": 46,
     "metadata": {},
     "output_type": "execute_result"
    }
   ],
   "source": [
    "# Info D for 'duration' Attribute for (df3)\n",
    "(9.0/20) * info(5,4) + (4.0/20) * info(3,1) + (7.0/20) * info(4,3)"
   ]
  },
  {
   "cell_type": "code",
   "execution_count": 47,
   "id": "54a05cd0",
   "metadata": {},
   "outputs": [
    {
     "data": {
      "text/plain": [
       "0.017880895023653975"
      ]
     },
     "execution_count": 47,
     "metadata": {},
     "output_type": "execute_result"
    }
   ],
   "source": [
    "# Gain(duration) = info(D) - info_'duration'(D) for dataset 3 (df3)\n",
    "info(12.0,8) - ((9.0/20) * info(5,4) + (4.0/20) * info(3,1) + (7.0/20) * info(4,3))"
   ]
  },
  {
   "cell_type": "code",
   "execution_count": 48,
   "id": "ba879b4c",
   "metadata": {},
   "outputs": [
    {
     "data": {
      "text/plain": [
       "0.9248037930698694"
      ]
     },
     "execution_count": 48,
     "metadata": {},
     "output_type": "execute_result"
    }
   ],
   "source": [
    "# Info D_popularity for (df3)\n",
    "(13.0/20) * info(8,5) + (4.0/20) * info(3,1) + (3.0/20) * info(1,2)"
   ]
  },
  {
   "cell_type": "code",
   "execution_count": 49,
   "id": "f9bcf599",
   "metadata": {},
   "outputs": [
    {
     "data": {
      "text/plain": [
       "0.04614680138479921"
      ]
     },
     "execution_count": 49,
     "metadata": {},
     "output_type": "execute_result"
    }
   ],
   "source": [
    "# Gain(popularity) = info(D) - info_'popularity'(D) for dataset 3 (df3)\n",
    "info(12.0,8) - ((13.0/20) * info(8,5) + (4.0/20) * info(3,1) + (3.0/20) * info(1,2))"
   ]
  },
  {
   "cell_type": "markdown",
   "id": "44faa6df",
   "metadata": {},
   "source": [
    "# Decision Tree for dataset 3 (df3)"
   ]
  },
  {
   "cell_type": "markdown",
   "id": "bed9e00c",
   "metadata": {},
   "source": [
    "# Using sklearn for (df3)\n",
    "Now, I get numerical values for X and Y. X is pairs of duration and popularity, and Y is the class labels. I then use sklearn to fit the data and then to predict the data. "
   ]
  },
  {
   "cell_type": "code",
   "execution_count": 50,
   "id": "e88e79d1",
   "metadata": {},
   "outputs": [],
   "source": [
    "X_list = df3['duration_ms'].to_list()\n",
    "Y_list = df3['popularity'].to_list()\n",
    "Z_list = df3['class_label'].to_list()\n",
    "X = list(zip(X_list, Y_list))\n",
    "Y = Z_list"
   ]
  },
  {
   "cell_type": "code",
   "execution_count": 51,
   "id": "96a8da01",
   "metadata": {},
   "outputs": [],
   "source": [
    "# commented out to save room\n",
    "# X, Y"
   ]
  },
  {
   "cell_type": "code",
   "execution_count": 52,
   "id": "a2792c8f",
   "metadata": {},
   "outputs": [],
   "source": [
    "# Train the decision tree; construct the decision tree; learn the decision tree\n",
    "clf = tree.DecisionTreeClassifier()\n",
    "clf = clf.fit(X, Y)"
   ]
  },
  {
   "cell_type": "code",
   "execution_count": 53,
   "id": "14f4a66a",
   "metadata": {},
   "outputs": [
    {
     "data": {
      "text/plain": [
       "array(['B'], dtype='<U1')"
      ]
     },
     "execution_count": 53,
     "metadata": {},
     "output_type": "execute_result"
    }
   ],
   "source": [
    "# predict a sample\n",
    "clf.predict([[7, 9]])"
   ]
  },
  {
   "cell_type": "code",
   "execution_count": 54,
   "id": "773774fa",
   "metadata": {},
   "outputs": [
    {
     "data": {
      "text/plain": [
       "array(['B'], dtype='<U1')"
      ]
     },
     "execution_count": 54,
     "metadata": {},
     "output_type": "execute_result"
    }
   ],
   "source": [
    "# predict another sample\n",
    "clf.predict([[11, 91]])"
   ]
  },
  {
   "cell_type": "markdown",
   "id": "0d96751c",
   "metadata": {},
   "source": [
    "# Dataset 4"
   ]
  },
  {
   "cell_type": "code",
   "execution_count": 55,
   "id": "f993e58a",
   "metadata": {},
   "outputs": [
    {
     "data": {
      "text/html": [
       "<div>\n",
       "<style scoped>\n",
       "    .dataframe tbody tr th:only-of-type {\n",
       "        vertical-align: middle;\n",
       "    }\n",
       "\n",
       "    .dataframe tbody tr th {\n",
       "        vertical-align: top;\n",
       "    }\n",
       "\n",
       "    .dataframe thead th {\n",
       "        text-align: right;\n",
       "    }\n",
       "</style>\n",
       "<table border=\"1\" class=\"dataframe\">\n",
       "  <thead>\n",
       "    <tr style=\"text-align: right;\">\n",
       "      <th></th>\n",
       "      <th>duration_ms</th>\n",
       "      <th>popularity</th>\n",
       "      <th>class_label</th>\n",
       "      <th>popularity_new</th>\n",
       "      <th>duration_ms_new</th>\n",
       "    </tr>\n",
       "  </thead>\n",
       "  <tbody>\n",
       "    <tr>\n",
       "      <th>46</th>\n",
       "      <td>21</td>\n",
       "      <td>50</td>\n",
       "      <td>A</td>\n",
       "      <td>average</td>\n",
       "      <td>Short</td>\n",
       "    </tr>\n",
       "    <tr>\n",
       "      <th>49</th>\n",
       "      <td>43</td>\n",
       "      <td>60</td>\n",
       "      <td>A</td>\n",
       "      <td>average</td>\n",
       "      <td>Long</td>\n",
       "    </tr>\n",
       "    <tr>\n",
       "      <th>22</th>\n",
       "      <td>42</td>\n",
       "      <td>72</td>\n",
       "      <td>A</td>\n",
       "      <td>popular</td>\n",
       "      <td>Short</td>\n",
       "    </tr>\n",
       "    <tr>\n",
       "      <th>58</th>\n",
       "      <td>28</td>\n",
       "      <td>76</td>\n",
       "      <td>B</td>\n",
       "      <td>popular</td>\n",
       "      <td>Medium</td>\n",
       "    </tr>\n",
       "    <tr>\n",
       "      <th>41</th>\n",
       "      <td>53</td>\n",
       "      <td>77</td>\n",
       "      <td>A</td>\n",
       "      <td>popular</td>\n",
       "      <td>Long</td>\n",
       "    </tr>\n",
       "    <tr>\n",
       "      <th>98</th>\n",
       "      <td>23</td>\n",
       "      <td>76</td>\n",
       "      <td>B</td>\n",
       "      <td>popular</td>\n",
       "      <td>Medium</td>\n",
       "    </tr>\n",
       "    <tr>\n",
       "      <th>62</th>\n",
       "      <td>20</td>\n",
       "      <td>0</td>\n",
       "      <td>B</td>\n",
       "      <td>not_popular</td>\n",
       "      <td>Short</td>\n",
       "    </tr>\n",
       "    <tr>\n",
       "      <th>29</th>\n",
       "      <td>26</td>\n",
       "      <td>55</td>\n",
       "      <td>A</td>\n",
       "      <td>average</td>\n",
       "      <td>Medium</td>\n",
       "    </tr>\n",
       "    <tr>\n",
       "      <th>30</th>\n",
       "      <td>56</td>\n",
       "      <td>83</td>\n",
       "      <td>A</td>\n",
       "      <td>popular</td>\n",
       "      <td>Long</td>\n",
       "    </tr>\n",
       "    <tr>\n",
       "      <th>51</th>\n",
       "      <td>62</td>\n",
       "      <td>70</td>\n",
       "      <td>B</td>\n",
       "      <td>popular</td>\n",
       "      <td>Long</td>\n",
       "    </tr>\n",
       "    <tr>\n",
       "      <th>89</th>\n",
       "      <td>50</td>\n",
       "      <td>63</td>\n",
       "      <td>B</td>\n",
       "      <td>average</td>\n",
       "      <td>Long</td>\n",
       "    </tr>\n",
       "    <tr>\n",
       "      <th>78</th>\n",
       "      <td>34</td>\n",
       "      <td>60</td>\n",
       "      <td>B</td>\n",
       "      <td>average</td>\n",
       "      <td>Medium</td>\n",
       "    </tr>\n",
       "    <tr>\n",
       "      <th>83</th>\n",
       "      <td>37</td>\n",
       "      <td>79</td>\n",
       "      <td>B</td>\n",
       "      <td>popular</td>\n",
       "      <td>Medium</td>\n",
       "    </tr>\n",
       "    <tr>\n",
       "      <th>79</th>\n",
       "      <td>50</td>\n",
       "      <td>66</td>\n",
       "      <td>B</td>\n",
       "      <td>not_popular</td>\n",
       "      <td>Long</td>\n",
       "    </tr>\n",
       "    <tr>\n",
       "      <th>16</th>\n",
       "      <td>44</td>\n",
       "      <td>74</td>\n",
       "      <td>A</td>\n",
       "      <td>popular</td>\n",
       "      <td>Long</td>\n",
       "    </tr>\n",
       "    <tr>\n",
       "      <th>38</th>\n",
       "      <td>36</td>\n",
       "      <td>71</td>\n",
       "      <td>A</td>\n",
       "      <td>popular</td>\n",
       "      <td>Medium</td>\n",
       "    </tr>\n",
       "    <tr>\n",
       "      <th>54</th>\n",
       "      <td>35</td>\n",
       "      <td>69</td>\n",
       "      <td>B</td>\n",
       "      <td>popular</td>\n",
       "      <td>Medium</td>\n",
       "    </tr>\n",
       "    <tr>\n",
       "      <th>6</th>\n",
       "      <td>64</td>\n",
       "      <td>100</td>\n",
       "      <td>A</td>\n",
       "      <td>popular</td>\n",
       "      <td>Long</td>\n",
       "    </tr>\n",
       "    <tr>\n",
       "      <th>39</th>\n",
       "      <td>49</td>\n",
       "      <td>64</td>\n",
       "      <td>A</td>\n",
       "      <td>average</td>\n",
       "      <td>Long</td>\n",
       "    </tr>\n",
       "    <tr>\n",
       "      <th>93</th>\n",
       "      <td>24</td>\n",
       "      <td>79</td>\n",
       "      <td>B</td>\n",
       "      <td>popular</td>\n",
       "      <td>Medium</td>\n",
       "    </tr>\n",
       "  </tbody>\n",
       "</table>\n",
       "</div>"
      ],
      "text/plain": [
       "    duration_ms  popularity class_label popularity_new duration_ms_new\n",
       "46           21          50           A        average           Short\n",
       "49           43          60           A        average            Long\n",
       "22           42          72           A        popular           Short\n",
       "58           28          76           B        popular          Medium\n",
       "41           53          77           A        popular            Long\n",
       "98           23          76           B        popular          Medium\n",
       "62           20           0           B    not_popular           Short\n",
       "29           26          55           A        average          Medium\n",
       "30           56          83           A        popular            Long\n",
       "51           62          70           B        popular            Long\n",
       "89           50          63           B        average            Long\n",
       "78           34          60           B        average          Medium\n",
       "83           37          79           B        popular          Medium\n",
       "79           50          66           B    not_popular            Long\n",
       "16           44          74           A        popular            Long\n",
       "38           36          71           A        popular          Medium\n",
       "54           35          69           B        popular          Medium\n",
       "6            64         100           A        popular            Long\n",
       "39           49          64           A        average            Long\n",
       "93           24          79           B        popular          Medium"
      ]
     },
     "execution_count": 55,
     "metadata": {},
     "output_type": "execute_result"
    }
   ],
   "source": [
    "# Here's dataset 4.\n",
    "df4"
   ]
  },
  {
   "cell_type": "code",
   "execution_count": 56,
   "id": "3ef44327",
   "metadata": {},
   "outputs": [
    {
     "data": {
      "text/plain": [
       "(Long      9\n",
       " Medium    8\n",
       " Short     3\n",
       " Name: duration_ms_new, dtype: int64,\n",
       " popular        12\n",
       " average         6\n",
       " not_popular     2\n",
       " Name: popularity_new, dtype: int64,\n",
       " B    10\n",
       " A    10\n",
       " Name: class_label, dtype: int64)"
      ]
     },
     "execution_count": 56,
     "metadata": {},
     "output_type": "execute_result"
    }
   ],
   "source": [
    "# Tally of dataset 4 to help with math below.\n",
    "df4['duration_ms_new'].value_counts(),df4['popularity_new'].value_counts(), df4['class_label'].value_counts()"
   ]
  },
  {
   "cell_type": "markdown",
   "id": "2b117772",
   "metadata": {},
   "source": [
    "# Dataset 4 (df4)\n",
    "In this dataset and all datasets I randomly generated 20 objects from my original dataset of Songs with 100 objects. In dataset number 4 (df4) I have the following: Class Labels (A - 10, B - 10), Duration ( Medium - 8, Long - 9, and Short - 3), and Popularity (Popular - 12, Average - 6, and Not Popular - 2). Below is my math to find decision tree."
   ]
  },
  {
   "cell_type": "code",
   "execution_count": 57,
   "id": "41bd1c57",
   "metadata": {},
   "outputs": [
    {
     "data": {
      "text/plain": [
       "1.0"
      ]
     },
     "execution_count": 57,
     "metadata": {},
     "output_type": "execute_result"
    }
   ],
   "source": [
    "# Information for whole decision on 'A' label_class for dataset 4 (df4)\n",
    "info(10.0,10) # Info D df4"
   ]
  },
  {
   "cell_type": "code",
   "execution_count": 58,
   "id": "21275451",
   "metadata": {},
   "outputs": [
    {
     "data": {
      "text/plain": [
       "0.8754887502163469"
      ]
     },
     "execution_count": 58,
     "metadata": {},
     "output_type": "execute_result"
    }
   ],
   "source": [
    "# Info D for 'duration' Attribute for (df4)\n",
    "(9.0/20) * info(6,3) + (8.0/20) * info(2,6) + (3.0/20) * info(2,1)"
   ]
  },
  {
   "cell_type": "code",
   "execution_count": 59,
   "id": "76b7bcd6",
   "metadata": {},
   "outputs": [
    {
     "data": {
      "text/plain": [
       "0.12451124978365313"
      ]
     },
     "execution_count": 59,
     "metadata": {},
     "output_type": "execute_result"
    }
   ],
   "source": [
    "# Gain('duration') for d4 = Info(D) - Info_'duration'(D) for dataset 4 (df4)\n",
    "info(10.0,10) - ((9.0/20) * info(6,3) + (8.0/20) * info(2,6) + (3.0/20) * info(2,1))"
   ]
  },
  {
   "cell_type": "code",
   "execution_count": 60,
   "id": "34e44082",
   "metadata": {},
   "outputs": [
    {
     "data": {
      "text/plain": [
       "0.8754887502163469"
      ]
     },
     "execution_count": 60,
     "metadata": {},
     "output_type": "execute_result"
    }
   ],
   "source": [
    "# Info D for 'popularity' Attribute for (d4)\n",
    "(12.0/20) * info(6,6) + (6.0/20) * info(4,2) + (2.0/20) * info(0,2)"
   ]
  },
  {
   "cell_type": "code",
   "execution_count": 61,
   "id": "b024c19c",
   "metadata": {},
   "outputs": [
    {
     "data": {
      "text/plain": [
       "0.12451124978365313"
      ]
     },
     "execution_count": 61,
     "metadata": {},
     "output_type": "execute_result"
    }
   ],
   "source": [
    "# Gain ('popularity') for d4 = Info(D) - Info_'popularity'(D) for dataset 4 (df4)\n",
    "info(10.0,10) - ((12.0/20) * info(6,6) + (6.0/20) * info(4,2) + (2.0/20) * info(0,2))"
   ]
  },
  {
   "cell_type": "markdown",
   "id": "119b0b46",
   "metadata": {},
   "source": [
    "# Decision Tree dataset 4 (df4)\n",
    "Because the score for both 'duration' and 'popularity' is the same the result here could be incorrect."
   ]
  },
  {
   "cell_type": "markdown",
   "id": "f87f49ce",
   "metadata": {},
   "source": [
    "# Using sklearn for (df4)\n",
    "Now, I get numerical values for X and Y. X is pairs of duration and popularity, and Y is the class labels. I then use sklearn to fit the data and then to predict the data. "
   ]
  },
  {
   "cell_type": "code",
   "execution_count": 62,
   "id": "d9958969",
   "metadata": {},
   "outputs": [],
   "source": [
    "X_list = df4['duration_ms'].to_list()\n",
    "Y_list = df4['popularity'].to_list()\n",
    "Z_list = df4['class_label'].to_list()\n",
    "X = list(zip(X_list, Y_list))\n",
    "Y = Z_list"
   ]
  },
  {
   "cell_type": "code",
   "execution_count": 63,
   "id": "95169d67",
   "metadata": {},
   "outputs": [],
   "source": [
    "# commented out to save room\n",
    "# X, Y"
   ]
  },
  {
   "cell_type": "code",
   "execution_count": 64,
   "id": "0f43ba5c",
   "metadata": {},
   "outputs": [],
   "source": [
    "# Train the decision tree; construct the decision tree; learn the decision tree\n",
    "clf = tree.DecisionTreeClassifier()\n",
    "clf = clf.fit(X, Y)"
   ]
  },
  {
   "cell_type": "code",
   "execution_count": 65,
   "id": "06dee746",
   "metadata": {},
   "outputs": [
    {
     "data": {
      "text/plain": [
       "array(['B'], dtype='<U1')"
      ]
     },
     "execution_count": 65,
     "metadata": {},
     "output_type": "execute_result"
    }
   ],
   "source": [
    "# predict a sample\n",
    "clf.predict([[5, 2]])"
   ]
  },
  {
   "cell_type": "code",
   "execution_count": 66,
   "id": "be69d345",
   "metadata": {},
   "outputs": [
    {
     "data": {
      "text/plain": [
       "array(['B'], dtype='<U1')"
      ]
     },
     "execution_count": 66,
     "metadata": {},
     "output_type": "execute_result"
    }
   ],
   "source": [
    "# predict another sample\n",
    "clf.predict([[10, 90]])"
   ]
  }
 ],
 "metadata": {
  "kernelspec": {
   "display_name": "Python 3 (ipykernel)",
   "language": "python",
   "name": "python3"
  },
  "language_info": {
   "codemirror_mode": {
    "name": "ipython",
    "version": 3
   },
   "file_extension": ".py",
   "mimetype": "text/x-python",
   "name": "python",
   "nbconvert_exporter": "python",
   "pygments_lexer": "ipython3",
   "version": "3.9.7"
  }
 },
 "nbformat": 4,
 "nbformat_minor": 5
}
